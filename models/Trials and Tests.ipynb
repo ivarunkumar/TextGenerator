{
 "cells": [
  {
   "cell_type": "code",
   "execution_count": 4,
   "id": "enabling-metro",
   "metadata": {},
   "outputs": [],
   "source": [
    "import spacy; from spacy.lang.en import English; nlp = English()\n",
    "nlp.add_pipe('sentencizer')\n",
    "# doc = nlp('Iterate over the sentences in the document. Sentence spans have no label. To improve accuracy on informal texts, spaCy calculates sentence boundaries from the syntactic dependency parse. If the parser is disabled, the sents iterator will be unavailable.')\n",
    "doc = nlp(\"Hi, my name's Rich. What's your name? Nice to meet you. I'm from the United States and I live in San Diego in California. Where are you from? I'm a teacher and I work online every day. What do you do? I like playing golf and tennis in my free time. How about you? At the moment, I'm working on my website. What are you doing right now? I'm tired today because I got up early. I usually get up at six o'clock. When do you usually get up? I think it's great you're learning English. How often do you study English? Did you study English yesterday? How about tomorrow? Are you going to study English tomorrow? OK, I know that studying English isn't the most important thing in the world! What else are you going to do this week? I'm going to attend a concert on Saturday. Do you have any special plans? Last weekend, I went to visit my friends in San Francisco. What did you do? How often do you do that? When is the next time you are going to do that? Thank you for talking to me. Have a nice day! There is also an ​audio file of this conversation.\")\n",
    "s = [sent.text for sent in doc.sents]"
   ]
  },
  {
   "cell_type": "code",
   "execution_count": 5,
   "id": "wanted-karma",
   "metadata": {},
   "outputs": [
    {
     "data": {
      "text/plain": [
       "[\"Hi, my name's Rich.\",\n",
       " \"What's your name?\",\n",
       " 'Nice to meet you.',\n",
       " \"I'm from the United States and I live in San Diego in California.\",\n",
       " 'Where are you from?',\n",
       " \"I'm a teacher and I work online every day.\",\n",
       " 'What do you do?',\n",
       " 'I like playing golf and tennis in my free time.',\n",
       " 'How about you?',\n",
       " \"At the moment, I'm working on my website.\",\n",
       " 'What are you doing right now?',\n",
       " \"I'm tired today because I got up early.\",\n",
       " \"I usually get up at six o'clock.\",\n",
       " 'When do you usually get up?',\n",
       " \"I think it's great you're learning English.\",\n",
       " 'How often do you study English?',\n",
       " 'Did you study English yesterday?',\n",
       " 'How about tomorrow?',\n",
       " 'Are you going to study English tomorrow?',\n",
       " \"OK, I know that studying English isn't the most important thing in the world!\",\n",
       " 'What else are you going to do this week?',\n",
       " \"I'm going to attend a concert on Saturday.\",\n",
       " 'Do you have any special plans?',\n",
       " 'Last weekend, I went to visit my friends in San Francisco.',\n",
       " 'What did you do?',\n",
       " 'How often do you do that?',\n",
       " 'When is the next time you are going to do that?',\n",
       " 'Thank you for talking to me.',\n",
       " 'Have a nice day!',\n",
       " 'There is also an \\u200baudio file of this conversation.']"
      ]
     },
     "execution_count": 5,
     "metadata": {},
     "output_type": "execute_result"
    }
   ],
   "source": [
    "s"
   ]
  },
  {
   "cell_type": "code",
   "execution_count": 6,
   "id": "chubby-handling",
   "metadata": {},
   "outputs": [
    {
     "data": {
      "text/plain": [
       "[Hi, my name's Rich.,\n",
       " What's your name?,\n",
       " Nice to meet you.,\n",
       " I'm from the United States and I live in San Diego in California.,\n",
       " Where are you from?,\n",
       " I'm a teacher and I work online every day.,\n",
       " What do you do?,\n",
       " I like playing golf and tennis in my free time.,\n",
       " How about you?,\n",
       " At the moment, I'm working on my website.,\n",
       " What are you doing right now?,\n",
       " I'm tired today because I got up early.,\n",
       " I usually get up at six o'clock.,\n",
       " When do you usually get up?,\n",
       " I think it's great you're learning English.,\n",
       " How often do you study English?,\n",
       " Did you study English yesterday?,\n",
       " How about tomorrow?,\n",
       " Are you going to study English tomorrow?,\n",
       " OK, I know that studying English isn't the most important thing in the world!,\n",
       " What else are you going to do this week?,\n",
       " I'm going to attend a concert on Saturday.,\n",
       " Do you have any special plans?,\n",
       " Last weekend, I went to visit my friends in San Francisco.,\n",
       " What did you do?,\n",
       " How often do you do that?,\n",
       " When is the next time you are going to do that?,\n",
       " Thank you for talking to me.,\n",
       " Have a nice day!,\n",
       " There is also an ​audio file of this conversation.]"
      ]
     },
     "execution_count": 6,
     "metadata": {},
     "output_type": "execute_result"
    }
   ],
   "source": [
    "list(doc.sents)"
   ]
  },
  {
   "cell_type": "code",
   "execution_count": null,
   "id": "national-facial",
   "metadata": {},
   "outputs": [],
   "source": []
  }
 ],
 "metadata": {
  "kernelspec": {
   "display_name": "tf-gpu",
   "language": "python",
   "name": "tf-gpu"
  },
  "language_info": {
   "codemirror_mode": {
    "name": "ipython",
    "version": 3
   },
   "file_extension": ".py",
   "mimetype": "text/x-python",
   "name": "python",
   "nbconvert_exporter": "python",
   "pygments_lexer": "ipython3",
   "version": "3.8.5"
  }
 },
 "nbformat": 4,
 "nbformat_minor": 5
}
